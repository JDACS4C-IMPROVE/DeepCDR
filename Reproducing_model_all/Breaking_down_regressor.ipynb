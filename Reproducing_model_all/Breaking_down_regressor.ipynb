{
 "cells": [
  {
   "cell_type": "code",
   "execution_count": 1,
   "id": "f5cb5b4e-8f73-4a22-ac3c-86ec4d214526",
   "metadata": {},
   "outputs": [],
   "source": [
    "import dill\n",
    "import argparse\n",
    "import random,os,sys\n",
    "import numpy as np\n",
    "import csv\n",
    "from scipy import stats\n",
    "import time\n",
    "from sklearn.model_selection import train_test_split\n",
    "from sklearn import metrics\n",
    "from sklearn.metrics import roc_auc_score\n",
    "from sklearn import preprocessing\n",
    "import pandas as pd\n",
    "import keras.backend as K\n",
    "from keras.models import Model, Sequential\n",
    "from keras.models import load_model\n",
    "from keras.layers import Input,InputLayer,Multiply,ZeroPadding2D\n",
    "from keras.layers import Conv2D, MaxPooling2D\n",
    "from keras.layers import Dense,Activation,Dropout,Flatten,Concatenate\n",
    "from keras.layers import BatchNormalization\n",
    "from keras.layers import Lambda\n",
    "from keras import optimizers,utils\n",
    "from keras.constraints import max_norm\n",
    "from keras import regularizers\n",
    "from keras.callbacks import ModelCheckpoint,Callback,EarlyStopping,History\n",
    "from keras.utils import plot_model\n",
    "# from tensorflow.python.keras.utils.multi_gpu_utils import multi_gpu_model\n",
    "from keras.optimizers import Adam, SGD\n",
    "from keras.models import model_from_json\n",
    "import tensorflow as tf\n",
    "from sklearn.metrics import average_precision_score\n",
    "from scipy.stats import pearsonr, spearmanr\n",
    "from model import KerasMultiSourceGCNModel\n",
    "import hickle as hkl\n",
    "import scipy.sparse as sp\n",
    "import argparse\n",
    "from sklearn.metrics import mean_squared_error"
   ]
  },
  {
   "cell_type": "code",
   "execution_count": 2,
   "id": "2e01a911-8f86-4377-ac8c-f7a758db01e2",
   "metadata": {},
   "outputs": [],
   "source": [
    "TCGA_label_set = [\"ALL\",\"BLCA\",\"BRCA\",\"CESC\",\"DLBC\",\"LIHC\",\"LUAD\",\n",
    "                  \"ESCA\",\"GBM\",\"HNSC\",\"KIRC\",\"LAML\",\"LCML\",\"LGG\",\n",
    "                  \"LUSC\",\"MESO\",\"MM\",\"NB\",\"OV\",\"PAAD\",\"SCLC\",\"SKCM\",\n",
    "                  \"STAD\",\"THCA\",'COAD/READ']\n",
    "DPATH = '/common/statsgeneral/gayara/DeepCDR/data'\n",
    "Drug_info_file = '%s/GDSC/1.Drug_listMon Jun 24 09_00_55 2019.csv'%DPATH\n",
    "Cell_line_info_file = '%s/CCLE/Cell_lines_annotations_20181226.txt'%DPATH\n",
    "Drug_feature_file = '%s/GDSC/drug_graph_feat'%DPATH\n",
    "Genomic_mutation_file = '%s/CCLE/genomic_mutation_34673_demap_features.csv'%DPATH\n",
    "Cancer_response_exp_file = '%s/CCLE/GDSC_IC50.csv'%DPATH\n",
    "Gene_expression_file = '%s/CCLE/genomic_expression_561celllines_697genes_demap_features.csv'%DPATH\n",
    "Methylation_file = '%s/CCLE/genomic_methylation_561celllines_808genes_demap_features.csv'%DPATH\n",
    "Max_atoms = 100"
   ]
  },
  {
   "cell_type": "code",
   "execution_count": 3,
   "id": "c8f36ce5-1c9c-4720-80c3-43a276898cfc",
   "metadata": {},
   "outputs": [],
   "source": [
    "def MetadataGenerate(Drug_info_file,Cell_line_info_file,Genomic_mutation_file,Drug_feature_file,Gene_expression_file,Methylation_file,filtered):\n",
    "    #drug_id --> pubchem_id\n",
    "    reader = csv.reader(open(Drug_info_file,'r'))\n",
    "    rows = [item for item in reader]\n",
    "    drugid2pubchemid = {item[0]:item[5] for item in rows if item[5].isdigit()}\n",
    "\n",
    "    #map cellline --> cancer type\n",
    "    cellline2cancertype ={}\n",
    "    for line in open(Cell_line_info_file).readlines()[1:]:\n",
    "        cellline_id = line.split('\\t')[1]\n",
    "        TCGA_label = line.strip().split('\\t')[-1]\n",
    "        #if TCGA_label in TCGA_label_set:\n",
    "        cellline2cancertype[cellline_id] = TCGA_label\n",
    "\n",
    "    #load demap cell lines genomic mutation features\n",
    "    mutation_feature = pd.read_csv(Genomic_mutation_file,sep=',',header=0,index_col=[0])\n",
    "    cell_line_id_set = list(mutation_feature.index)\n",
    "\n",
    "    # load drug features\n",
    "    drug_pubchem_id_set = []\n",
    "    drug_feature = {}\n",
    "    for each in os.listdir(Drug_feature_file):\n",
    "        drug_pubchem_id_set.append(each.split('.')[0])\n",
    "        feat_mat,adj_list,degree_list = hkl.load('%s/%s'%(Drug_feature_file,each))\n",
    "        drug_feature[each.split('.')[0]] = [feat_mat,adj_list,degree_list]\n",
    "    assert len(drug_pubchem_id_set)==len(drug_feature.values())\n",
    "    \n",
    "    #load gene expression faetures\n",
    "    gexpr_feature = pd.read_csv(Gene_expression_file,sep=',',header=0,index_col=[0])\n",
    "    \n",
    "    #only keep overlapped cell lines\n",
    "    mutation_feature = mutation_feature.loc[list(gexpr_feature.index)]\n",
    "    \n",
    "    #load methylation \n",
    "    methylation_feature = pd.read_csv(Methylation_file,sep=',',header=0,index_col=[0])\n",
    "    assert methylation_feature.shape[0]==gexpr_feature.shape[0]==mutation_feature.shape[0]        \n",
    "    experiment_data = pd.read_csv(Cancer_response_exp_file,sep=',',header=0,index_col=[0])\n",
    "    #filter experiment data\n",
    "    drug_match_list=[item for item in experiment_data.index if item.split(':')[1] in drugid2pubchemid.keys()]\n",
    "    experiment_data_filtered = experiment_data.loc[drug_match_list]\n",
    "    \n",
    "    data_idx = []\n",
    "    for each_drug in experiment_data_filtered.index:\n",
    "        for each_cellline in experiment_data_filtered.columns:\n",
    "            pubchem_id = drugid2pubchemid[each_drug.split(':')[-1]]\n",
    "            if str(pubchem_id) in drug_pubchem_id_set and each_cellline in mutation_feature.index:\n",
    "                if not np.isnan(experiment_data_filtered.loc[each_drug,each_cellline]) and each_cellline in cellline2cancertype.keys():\n",
    "                    ln_IC50 = float(experiment_data_filtered.loc[each_drug,each_cellline])\n",
    "                    data_idx.append((each_cellline,pubchem_id,ln_IC50,cellline2cancertype[each_cellline])) \n",
    "    nb_celllines = len(set([item[0] for item in data_idx]))\n",
    "    nb_drugs = len(set([item[1] for item in data_idx]))\n",
    "    print('%d instances across %d cell lines and %d drugs were generated.'%(len(data_idx),nb_celllines,nb_drugs))\n",
    "    return mutation_feature, drug_feature,gexpr_feature,methylation_feature, data_idx"
   ]
  },
  {
   "cell_type": "code",
   "execution_count": 4,
   "id": "15ed2778-8982-4782-87cc-f8b17cb08225",
   "metadata": {},
   "outputs": [],
   "source": [
    "def DataSplit(data_idx,ratio = 0.95):\n",
    "    data_train_idx,data_valid_idx, data_test_idx = [], [], []\n",
    "    for each_type in TCGA_label_set:\n",
    "        data_subtype_idx = [item for item in data_idx if item[-1]==each_type]\n",
    "        train_list = random.sample(data_subtype_idx,int(ratio*len(data_subtype_idx)))\n",
    "        test_list = [item for item in data_subtype_idx if item not in train_list]\n",
    "        validation_final = test_list[:110]\n",
    "        test_final = test_list[110:]\n",
    "        data_train_idx += train_list\n",
    "        data_test_idx += test_final\n",
    "        data_valid_idx += validation_final\n",
    "    return data_train_idx, data_valid_idx, data_test_idx"
   ]
  },
  {
   "cell_type": "code",
   "execution_count": 5,
   "id": "5f1884fe-4144-42a1-a9e2-76cf978f63c2",
   "metadata": {},
   "outputs": [],
   "source": [
    "def NormalizeAdj(adj):\n",
    "    adj = adj + np.eye(adj.shape[0])\n",
    "    d = sp.diags(np.power(np.array(adj.sum(1)), -0.5).flatten(), 0).toarray()\n",
    "    a_norm = adj.dot(d).transpose().dot(d)\n",
    "    return a_norm"
   ]
  },
  {
   "cell_type": "code",
   "execution_count": 6,
   "id": "a45da36e-e6c9-4402-96a0-51565c9e0747",
   "metadata": {},
   "outputs": [],
   "source": [
    "def random_adjacency_matrix(n):   \n",
    "    matrix = [[random.randint(0, 1) for i in range(n)] for j in range(n)]\n",
    "    # No vertex connects to itself\n",
    "    for i in range(n):\n",
    "        matrix[i][i] = 0\n",
    "    # If i is connected to j, j is connected to i\n",
    "    for i in range(n):\n",
    "        for j in range(n):\n",
    "            matrix[j][i] = matrix[i][j]\n",
    "    return matrix"
   ]
  },
  {
   "cell_type": "code",
   "execution_count": 7,
   "id": "90263669-0c15-4b4e-8351-3db3e5ae9ad3",
   "metadata": {},
   "outputs": [],
   "source": [
    "israndom = True"
   ]
  },
  {
   "cell_type": "code",
   "execution_count": 8,
   "id": "53deea1a-b543-4bc2-8089-85ab63d0714d",
   "metadata": {},
   "outputs": [],
   "source": [
    "def CalculateGraphFeat(feat_mat,adj_list):\n",
    "    feat = np.zeros((Max_atoms,feat_mat.shape[-1]),dtype='float32')\n",
    "    adj_mat = np.zeros((Max_atoms,Max_atoms),dtype='float32')\n",
    "    if israndom:\n",
    "        feat = np.random.rand(Max_atoms,feat_mat.shape[-1])\n",
    "        adj_mat[feat_mat.shape[0]:,feat_mat.shape[0]:] = random_adjacency_matrix(Max_atoms-feat_mat.shape[0])        \n",
    "    feat[:feat_mat.shape[0],:] = feat_mat\n",
    "    for i in range(len(adj_list)):\n",
    "        nodes = adj_list[i]\n",
    "        for each in nodes:\n",
    "            adj_mat[i,int(each)] = 1\n",
    "    assert np.allclose(adj_mat,adj_mat.T)\n",
    "    adj_ = adj_mat[:len(adj_list),:len(adj_list)]\n",
    "    adj_2 = adj_mat[len(adj_list):,len(adj_list):]\n",
    "    norm_adj_ = NormalizeAdj(adj_)\n",
    "    norm_adj_2 = NormalizeAdj(adj_2)\n",
    "    adj_mat[:len(adj_list),:len(adj_list)] = norm_adj_\n",
    "    adj_mat[len(adj_list):,len(adj_list):] = norm_adj_2    \n",
    "    return [feat,adj_mat]"
   ]
  },
  {
   "cell_type": "code",
   "execution_count": 9,
   "id": "506ff299-be5a-4ef5-bf2a-ce0540cbbf7b",
   "metadata": {},
   "outputs": [],
   "source": [
    "def FeatureExtract(data_idx,drug_feature,mutation_feature,gexpr_feature,methylation_feature):\n",
    "    cancer_type_list = []\n",
    "    nb_instance = len(data_idx)\n",
    "    nb_mutation_feature = mutation_feature.shape[1]\n",
    "    nb_gexpr_features = gexpr_feature.shape[1]\n",
    "    nb_methylation_features = methylation_feature.shape[1]\n",
    "    drug_data = [[] for item in range(nb_instance)]\n",
    "    mutation_data = np.zeros((nb_instance,1, nb_mutation_feature,1),dtype='float32')\n",
    "    gexpr_data = np.zeros((nb_instance,nb_gexpr_features),dtype='float32') \n",
    "    methylation_data = np.zeros((nb_instance, nb_methylation_features),dtype='float32') \n",
    "    target = np.zeros(nb_instance,dtype='float32')\n",
    "    for idx in range(nb_instance):\n",
    "        cell_line_id,pubchem_id,ln_IC50,cancer_type = data_idx[idx]\n",
    "        #modify\n",
    "        feat_mat,adj_list,_ = drug_feature[str(pubchem_id)]\n",
    "        #fill drug data,padding to the same size with zeros\n",
    "        drug_data[idx] = CalculateGraphFeat(feat_mat,adj_list)\n",
    "        #randomlize X A\n",
    "        mutation_data[idx,0,:,0] = mutation_feature.loc[cell_line_id].values\n",
    "        gexpr_data[idx,:] = gexpr_feature.loc[cell_line_id].values\n",
    "        methylation_data[idx,:] = methylation_feature.loc[cell_line_id].values\n",
    "        target[idx] = ln_IC50\n",
    "        cancer_type_list.append([cancer_type,cell_line_id,pubchem_id])\n",
    "    return drug_data,mutation_data,gexpr_data,methylation_data,target,cancer_type_list\n",
    "    "
   ]
  },
  {
   "cell_type": "code",
   "execution_count": 10,
   "id": "0d657ee6-e97f-4fb1-bf1c-65cb6a153f84",
   "metadata": {},
   "outputs": [],
   "source": [
    "class MyCallback(Callback):\n",
    "    def __init__(self,validation_data,patience):\n",
    "        self.x_val = validation_data[0]\n",
    "        self.y_val = validation_data[1]\n",
    "        self.best_weight = None\n",
    "        self.patience = patience\n",
    "    def on_train_begin(self,logs={}):\n",
    "        self.wait = 0\n",
    "        self.stopped_epoch = 0\n",
    "        self.best = -np.Inf\n",
    "        return\n",
    "    def on_train_end(self, logs={}):\n",
    "        self.model.set_weights(self.best_weight)\n",
    "        self.model.save('/common/statsgeneral/gayara/DeepCDR/checkpoints')\n",
    "        if self.stopped_epoch > 0 :\n",
    "            print('Epoch %05d: early stopping' % (self.stopped_epoch + 1))\n",
    "        return\n",
    "\n",
    "    def on_epoch_begin(self, epoch, logs={}):\n",
    "        return\n",
    "\n",
    "    def on_epoch_end(self, epoch, logs={}):\n",
    "        y_pred_val = self.model.predict(self.x_val)\n",
    "        pcc_val = pearsonr(self.y_val, y_pred_val[:,0])[0]\n",
    "        print('pcc-val: %s' % str(round(pcc_val,4)))\n",
    "        if pcc_val > self.best:\n",
    "            self.best = pcc_val\n",
    "            self.wait = 0\n",
    "            self.best_weight = self.model.get_weights()\n",
    "        else:\n",
    "            self.wait+=1\n",
    "            if self.wait >= self.patience:\n",
    "                self.stopped_epoch = epoch\n",
    "                self.model.stop_training = True\n",
    "        return\n",
    "        "
   ]
  },
  {
   "cell_type": "code",
   "execution_count": 11,
   "id": "7afc1cf1-c343-4c91-8abd-1d2357eac2e3",
   "metadata": {},
   "outputs": [],
   "source": [
    "def ModelTraining(model,X_drug_data_train,X_mutation_data_train,X_gexpr_data_train,X_methylation_data_train,Y_train,validation_data,nb_epoch=100):\n",
    "    optimizer = Adam(lr=0.001, beta_1=0.9, beta_2=0.999, epsilon=None, decay=0.0, amsgrad=False)\n",
    "    model.compile(optimizer = optimizer,loss='mean_squared_error',metrics=['mse'])\n",
    "    #EarlyStopping(monitor='val_loss',patience=5)\n",
    "    callbacks = [ModelCheckpoint('/common/statsgeneral/gayara/DeepCDR/checkpoints',monitor='val_loss',save_best_only=False, save_weights_only=False),\n",
    "                MyCallback(validation_data=validation_data,patience=10)]\n",
    "    X_drug_feat_data_train = [item[0] for item in X_drug_data_train]\n",
    "    X_drug_adj_data_train = [item[1] for item in X_drug_data_train]\n",
    "    X_drug_feat_data_train = np.array(X_drug_feat_data_train)#nb_instance * Max_stom * feat_dim\n",
    "    X_drug_adj_data_train = np.array(X_drug_adj_data_train)#nb_instance * Max_stom * Max_stom\n",
    "    #validation data\n",
    "    model.fit(x=[X_drug_feat_data_train,X_drug_adj_data_train,X_mutation_data_train,X_gexpr_data_train,X_methylation_data_train],y=Y_train,batch_size=64,epochs=nb_epoch,validation_split=0,callbacks=callbacks)\n",
    "    return model\n"
   ]
  },
  {
   "cell_type": "code",
   "execution_count": 12,
   "id": "e583b395-4ad1-4ac7-a99c-feb9e24b8bbe",
   "metadata": {},
   "outputs": [],
   "source": [
    "def ModelEvaluate(model,X_drug_data_test,X_mutation_data_test,X_gexpr_data_test,X_methylation_data_test,Y_test,cancer_type_test_list,file_path):\n",
    "    X_drug_feat_data_test = [item[0] for item in X_drug_data_test]\n",
    "    X_drug_adj_data_test = [item[1] for item in X_drug_data_test]\n",
    "    X_drug_feat_data_test = np.array(X_drug_feat_data_test)#nb_instance * Max_stom * feat_dim\n",
    "    X_drug_adj_data_test = np.array(X_drug_adj_data_test)#nb_instance * Max_stom * Max_stom    \n",
    "    Y_pred = model.predict([X_drug_feat_data_test,X_drug_adj_data_test,X_mutation_data_test,X_gexpr_data_test,X_methylation_data_test])\n",
    "    overall_pcc = pearsonr(Y_pred[:,0],Y_test)[0]\n",
    "    overall_scc = spearmanr(Y_pred[:,0],Y_test)[0]\n",
    "    overall_rmse = np.sqrt(mean_squared_error(Y_pred[:,0],Y_test))\n",
    "    \n",
    "    print(\"The overall Pearson's correlation is %.4f.\"%overall_pcc)\n",
    "    print(\"The overall Spearman's correlation is %.4f.\"%overall_scc)\n",
    "    print(\"The overall RMSE is %.4f.\"%overall_rmse)"
   ]
  },
  {
   "cell_type": "code",
   "execution_count": 13,
   "id": "1479732b-ed30-4f3c-ae7b-148e17511625",
   "metadata": {},
   "outputs": [
    {
     "data": {
      "text/plain": [
       "0.6123724356957945"
      ]
     },
     "execution_count": 13,
     "metadata": {},
     "output_type": "execute_result"
    }
   ],
   "source": [
    "y_true = [3, -0.5, 2, 7]\n",
    "y_pred = [2.5, 0.0, 2, 8]\n",
    "np.sqrt(mean_squared_error(y_true, y_pred))"
   ]
  },
  {
   "cell_type": "code",
   "execution_count": 14,
   "id": "d794fc57-dca3-45e6-a01e-5f1da3a106fa",
   "metadata": {},
   "outputs": [
    {
     "data": {
      "text/plain": [
       "0.37499999999999994"
      ]
     },
     "execution_count": 14,
     "metadata": {},
     "output_type": "execute_result"
    }
   ],
   "source": [
    "0.6123724356957945**2"
   ]
  },
  {
   "cell_type": "code",
   "execution_count": 15,
   "id": "ebcd86ee-8599-46c2-8a06-8a6e698285ad",
   "metadata": {},
   "outputs": [],
   "source": [
    "random.seed(0)"
   ]
  },
  {
   "cell_type": "code",
   "execution_count": 16,
   "id": "69325385-e6a6-48d1-a5a5-ce6dfb15312d",
   "metadata": {},
   "outputs": [
    {
     "name": "stderr",
     "output_type": "stream",
     "text": [
      "/common/statsgeneral/gayara/tf_customenv1/lib/python3.9/site-packages/hickle/hickle.py:356: UserWarning: Input argument 'file_obj' appears to be a file made with hickle v3. Using legacy load...\n",
      "  warnings.warn(\"Input argument 'file_obj' appears to be a file made\"\n"
     ]
    },
    {
     "name": "stdout",
     "output_type": "stream",
     "text": [
      "107446 instances across 561 cell lines and 223 drugs were generated.\n"
     ]
    }
   ],
   "source": [
    "mutation_feature, drug_feature,gexpr_feature,methylation_feature, data_idx = MetadataGenerate(Drug_info_file,Cell_line_info_file,Genomic_mutation_file,Drug_feature_file,Gene_expression_file,Methylation_file,False)\n",
    "data_train_idx, data_valid_idx,data_test_idx = DataSplit(data_idx)\n",
    "#Extract features for training and test \n"
   ]
  },
  {
   "cell_type": "code",
   "execution_count": 17,
   "id": "e89449d9-4871-45df-bb49-dd24ec96b825",
   "metadata": {},
   "outputs": [
    {
     "data": {
      "text/plain": [
       "89585"
      ]
     },
     "execution_count": 17,
     "metadata": {},
     "output_type": "execute_result"
    }
   ],
   "source": [
    "len(data_train_idx)"
   ]
  },
  {
   "cell_type": "code",
   "execution_count": 18,
   "id": "35f7be32-12e1-49e5-ab6a-41e0aa5e99fb",
   "metadata": {},
   "outputs": [
    {
     "data": {
      "text/plain": [
       "2287"
      ]
     },
     "execution_count": 18,
     "metadata": {},
     "output_type": "execute_result"
    }
   ],
   "source": [
    "len(data_test_idx)"
   ]
  },
  {
   "cell_type": "code",
   "execution_count": 19,
   "id": "2d6510a1-2f90-46ca-9034-07c8e1573922",
   "metadata": {},
   "outputs": [
    {
     "data": {
      "text/plain": [
       "2442"
      ]
     },
     "execution_count": 19,
     "metadata": {},
     "output_type": "execute_result"
    }
   ],
   "source": [
    "len(data_valid_idx)"
   ]
  },
  {
   "cell_type": "code",
   "execution_count": 20,
   "id": "33f0a1ca-69d6-46bf-8867-90cef600d4fc",
   "metadata": {},
   "outputs": [],
   "source": [
    "X_drug_data_train,X_mutation_data_train,X_gexpr_data_train,X_methylation_data_train,Y_train,cancer_type_train_list = FeatureExtract(data_train_idx,drug_feature,mutation_feature,gexpr_feature,methylation_feature)\n",
    "X_drug_data_test,X_mutation_data_test,X_gexpr_data_test,X_methylation_data_test,Y_test,cancer_type_test_list = FeatureExtract(data_test_idx,drug_feature,mutation_feature,gexpr_feature,methylation_feature)\n",
    "X_drug_data_valid,X_mutation_data_valid,X_gexpr_data_valid,X_methylation_data_valid,Y_valid,cancer_type_valid_list = FeatureExtract(data_valid_idx,drug_feature,mutation_feature,gexpr_feature,methylation_feature)\n"
   ]
  },
  {
   "cell_type": "code",
   "execution_count": 21,
   "id": "be0a1efc-37de-470f-bd7d-fb3a0da91a71",
   "metadata": {},
   "outputs": [
    {
     "data": {
      "text/plain": [
       "2442"
      ]
     },
     "execution_count": 21,
     "metadata": {},
     "output_type": "execute_result"
    }
   ],
   "source": [
    "len(data_valid_idx)"
   ]
  },
  {
   "cell_type": "code",
   "execution_count": 22,
   "id": "55802977-4bda-489f-a712-2328d5c32296",
   "metadata": {},
   "outputs": [],
   "source": [
    "# test data\n",
    "X_drug_feat_data_test = [item[0] for item in X_drug_data_test]\n",
    "X_drug_adj_data_test = [item[1] for item in X_drug_data_test]\n",
    "X_drug_feat_data_test = np.array(X_drug_feat_data_test)#nb_instance * Max_stom * feat_dim\n",
    "X_drug_adj_data_test = np.array(X_drug_adj_data_test)#nb_instance * Max_stom * Max_stom  \n",
    "\n",
    "# validation data\n",
    "X_drug_feat_data_valid = [item[0] for item in X_drug_data_valid]\n",
    "X_drug_adj_data_valid = [item[1] for item in X_drug_data_valid]\n",
    "X_drug_feat_data_valid = np.array(X_drug_feat_data_valid)#nb_instance * Max_stom * feat_dim\n",
    "X_drug_adj_data_valid = np.array(X_drug_adj_data_valid)#nb_instance * Max_stom * Max_stom  "
   ]
  },
  {
   "cell_type": "code",
   "execution_count": 23,
   "id": "01d0da92-3cb6-450a-b7c8-7a69d88e8c09",
   "metadata": {},
   "outputs": [],
   "source": [
    "validation_data = [[X_drug_feat_data_valid,X_drug_adj_data_valid,X_mutation_data_valid,X_gexpr_data_valid,X_methylation_data_valid],Y_valid]\n",
    "test_data = [[X_drug_feat_data_test,X_drug_adj_data_test,X_mutation_data_test,X_gexpr_data_test,X_methylation_data_test],Y_test]"
   ]
  },
  {
   "cell_type": "code",
   "execution_count": 24,
   "id": "84224b98-ab17-4dfa-bddf-235ae19712d8",
   "metadata": {},
   "outputs": [
    {
     "data": {
      "text/plain": [
       "2"
      ]
     },
     "execution_count": 24,
     "metadata": {},
     "output_type": "execute_result"
    }
   ],
   "source": [
    "len(test_data)"
   ]
  },
  {
   "cell_type": "code",
   "execution_count": 25,
   "id": "d278e093-c79b-44e5-af29-3daac5429c1e",
   "metadata": {},
   "outputs": [],
   "source": [
    "use_mut = True\n",
    "use_gexp = True\n",
    "use_methy = True\n",
    "units_list = [256,256,256]\n",
    "use_relu = True\n",
    "use_bn = True\n",
    "use_GMP = True"
   ]
  },
  {
   "cell_type": "code",
   "execution_count": 26,
   "id": "8af66ef4-dc3a-4cd9-b70c-fb4f7faf1da3",
   "metadata": {},
   "outputs": [],
   "source": [
    "model = KerasMultiSourceGCNModel(use_mut,use_gexp,use_methy).createMaster(X_drug_data_train[0][0].shape[-1],X_mutation_data_train.shape[-2],X_gexpr_data_train.shape[-1],X_methylation_data_train.shape[-1],units_list,use_relu,use_bn,use_GMP)"
   ]
  },
  {
   "cell_type": "code",
   "execution_count": 27,
   "id": "fc278ab7-045c-4819-b50c-ee8568c100ea",
   "metadata": {},
   "outputs": [
    {
     "data": {
      "text/plain": [
       "75"
      ]
     },
     "execution_count": 27,
     "metadata": {},
     "output_type": "execute_result"
    }
   ],
   "source": [
    "X_drug_data_train[0][0].shape[-1]"
   ]
  },
  {
   "cell_type": "code",
   "execution_count": 28,
   "id": "64f1f71c-a773-43ad-9daf-d6740bb27eec",
   "metadata": {},
   "outputs": [
    {
     "data": {
      "text/plain": [
       "34673"
      ]
     },
     "execution_count": 28,
     "metadata": {},
     "output_type": "execute_result"
    }
   ],
   "source": [
    "X_mutation_data_train.shape[-2]"
   ]
  },
  {
   "cell_type": "code",
   "execution_count": 29,
   "id": "740860e5-fbf8-47ab-8c81-f7ac0742df22",
   "metadata": {},
   "outputs": [
    {
     "data": {
      "text/plain": [
       "697"
      ]
     },
     "execution_count": 29,
     "metadata": {},
     "output_type": "execute_result"
    }
   ],
   "source": [
    "X_gexpr_data_train.shape[-1]"
   ]
  },
  {
   "cell_type": "code",
   "execution_count": 30,
   "id": "1e326792-7362-4786-82f6-b6449c734816",
   "metadata": {},
   "outputs": [
    {
     "data": {
      "text/plain": [
       "808"
      ]
     },
     "execution_count": 30,
     "metadata": {},
     "output_type": "execute_result"
    }
   ],
   "source": [
    "X_methylation_data_train.shape[-1]"
   ]
  },
  {
   "cell_type": "code",
   "execution_count": null,
   "id": "818cb65b-62ea-4494-b817-65fe8530b43c",
   "metadata": {},
   "outputs": [
    {
     "name": "stdout",
     "output_type": "stream",
     "text": [
      "Begin training...\n"
     ]
    },
    {
     "name": "stderr",
     "output_type": "stream",
     "text": [
      "/common/statsgeneral/gayara/tf_customenv1/lib/python3.9/site-packages/keras/optimizers/optimizer_v2/adam.py:110: UserWarning: The `lr` argument is deprecated, use `learning_rate` instead.\n",
      "  super(Adam, self).__init__(name, **kwargs)\n"
     ]
    }
   ],
   "source": [
    "print('Begin training...')\n",
    "model = ModelTraining(model,X_drug_data_train,X_mutation_data_train,X_gexpr_data_train,X_methylation_data_train,Y_train,validation_data,nb_epoch=500)"
   ]
  },
  {
   "cell_type": "code",
   "execution_count": null,
   "id": "9f65db92-c685-4a31-b04d-0eb460187d3f",
   "metadata": {},
   "outputs": [],
   "source": [
    "ModelEvaluate(model,X_drug_data_test,X_mutation_data_test,X_gexpr_data_test,X_methylation_data_test,Y_test,cancer_type_test_list,'/common/statsgeneral/gayara/DeepCDR/checkpoints')"
   ]
  },
  {
   "cell_type": "code",
   "execution_count": 20,
   "id": "87c2ee24-e9c8-43e2-83a8-1d121319f973",
   "metadata": {},
   "outputs": [
    {
     "data": {
      "text/plain": [
       "<function sklearn.metrics._regression.mean_squared_error(y_true, y_pred, *, sample_weight=None, multioutput='uniform_average', squared=True)>"
      ]
     },
     "execution_count": 20,
     "metadata": {},
     "output_type": "execute_result"
    }
   ],
   "source": [
    "mean_squared_error"
   ]
  },
  {
   "cell_type": "code",
   "execution_count": 21,
   "id": "13534a38-7f99-440e-8b46-d4a966c7fa19",
   "metadata": {},
   "outputs": [
    {
     "ename": "NameError",
     "evalue": "name 'Y_valid' is not defined",
     "output_type": "error",
     "traceback": [
      "\u001b[0;31m---------------------------------------------------------------------------\u001b[0m",
      "\u001b[0;31mNameError\u001b[0m                                 Traceback (most recent call last)",
      "Cell \u001b[0;32mIn [21], line 1\u001b[0m\n\u001b[0;32m----> 1\u001b[0m \u001b[43mY_valid\u001b[49m\n",
      "\u001b[0;31mNameError\u001b[0m: name 'Y_valid' is not defined"
     ]
    }
   ],
   "source": [
    "Y_valid"
   ]
  }
 ],
 "metadata": {
  "kernelspec": {
   "display_name": "Python (tf_customenv1)",
   "language": "python",
   "name": "tf_customenv1"
  },
  "language_info": {
   "codemirror_mode": {
    "name": "ipython",
    "version": 3
   },
   "file_extension": ".py",
   "mimetype": "text/x-python",
   "name": "python",
   "nbconvert_exporter": "python",
   "pygments_lexer": "ipython3",
   "version": "3.9.13"
  }
 },
 "nbformat": 4,
 "nbformat_minor": 5
}
