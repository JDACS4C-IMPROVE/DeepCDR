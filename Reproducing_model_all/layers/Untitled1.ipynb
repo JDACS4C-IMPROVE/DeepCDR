{
 "cells": [
  {
   "cell_type": "code",
   "execution_count": 2,
   "id": "7ddfbe0e-379d-43c5-a0b6-fc0db84f20e3",
   "metadata": {},
   "outputs": [
    {
     "ename": "ImportError",
     "evalue": "cannot import name 'multi_gpu_model' from 'keras.utils' (/home/statsgeneral/gayara/.local/lib/python3.8/site-packages/keras/utils/__init__.py)",
     "output_type": "error",
     "traceback": [
      "\u001b[0;31m---------------------------------------------------------------------------\u001b[0m",
      "\u001b[0;31mImportError\u001b[0m                               Traceback (most recent call last)",
      "Input \u001b[0;32mIn [2]\u001b[0m, in \u001b[0;36m<cell line: 13>\u001b[0;34m()\u001b[0m\n\u001b[1;32m     11\u001b[0m \u001b[38;5;28;01mfrom\u001b[39;00m \u001b[38;5;21;01mkeras\u001b[39;00m \u001b[38;5;28;01mimport\u001b[39;00m regularizers\n\u001b[1;32m     12\u001b[0m \u001b[38;5;28;01mfrom\u001b[39;00m \u001b[38;5;21;01mkeras\u001b[39;00m\u001b[38;5;21;01m.\u001b[39;00m\u001b[38;5;21;01mcallbacks\u001b[39;00m \u001b[38;5;28;01mimport\u001b[39;00m ModelCheckpoint,Callback,EarlyStopping,History\n\u001b[0;32m---> 13\u001b[0m \u001b[38;5;28;01mfrom\u001b[39;00m \u001b[38;5;21;01mkeras\u001b[39;00m\u001b[38;5;21;01m.\u001b[39;00m\u001b[38;5;21;01mutils\u001b[39;00m \u001b[38;5;28;01mimport\u001b[39;00m multi_gpu_model,plot_model\n",
      "\u001b[0;31mImportError\u001b[0m: cannot import name 'multi_gpu_model' from 'keras.utils' (/home/statsgeneral/gayara/.local/lib/python3.8/site-packages/keras/utils/__init__.py)"
     ]
    }
   ],
   "source": [
    "import keras.backend as K\n",
    "from keras.models import Model, Sequential\n",
    "from keras.models import load_model\n",
    "from keras.layers import Input,InputLayer,Multiply,ZeroPadding2D\n",
    "from keras.layers import Conv2D, MaxPooling2D\n",
    "from keras.layers import Dense,Activation,Dropout,Flatten,Concatenate\n",
    "from keras.layers import BatchNormalization\n",
    "from keras.layers import Lambda\n",
    "from keras import optimizers,utils\n",
    "from keras.constraints import max_norm\n",
    "from keras import regularizers\n",
    "from keras.callbacks import ModelCheckpoint,Callback,EarlyStopping,History\n",
    "from keras.utils import multi_gpu_model,plot_model"
   ]
  }
 ],
 "metadata": {
  "kernelspec": {
   "display_name": "TensorFlow 2.7 (py38)",
   "language": "python",
   "name": "tensorflow-2.7-py38"
  },
  "language_info": {
   "codemirror_mode": {
    "name": "ipython",
    "version": 3
   },
   "file_extension": ".py",
   "mimetype": "text/x-python",
   "name": "python",
   "nbconvert_exporter": "python",
   "pygments_lexer": "ipython3",
   "version": "3.8.12"
  }
 },
 "nbformat": 4,
 "nbformat_minor": 5
}
