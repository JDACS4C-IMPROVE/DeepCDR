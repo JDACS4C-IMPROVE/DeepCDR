{
 "cells": [
  {
   "cell_type": "code",
   "execution_count": 5,
   "id": "744594ee-304d-4cb8-87f0-7d5e4151ae3c",
   "metadata": {},
   "outputs": [
    {
     "ename": "ModuleNotFoundError",
     "evalue": "No module named 'keras.utils.multi_gpu_utils'",
     "output_type": "error",
     "traceback": [
      "\u001b[0;31m---------------------------------------------------------------------------\u001b[0m",
      "\u001b[0;31mModuleNotFoundError\u001b[0m                       Traceback (most recent call last)",
      "Cell \u001b[0;32mIn [5], line 24\u001b[0m\n\u001b[1;32m     22\u001b[0m \u001b[38;5;28;01mfrom\u001b[39;00m \u001b[38;5;21;01mkeras\u001b[39;00m \u001b[38;5;28;01mimport\u001b[39;00m regularizers\n\u001b[1;32m     23\u001b[0m \u001b[38;5;28;01mfrom\u001b[39;00m \u001b[38;5;21;01mkeras\u001b[39;00m\u001b[38;5;21;01m.\u001b[39;00m\u001b[38;5;21;01mcallbacks\u001b[39;00m \u001b[38;5;28;01mimport\u001b[39;00m ModelCheckpoint,Callback,EarlyStopping,History\n\u001b[0;32m---> 24\u001b[0m \u001b[38;5;28;01mfrom\u001b[39;00m \u001b[38;5;21;01mkeras\u001b[39;00m\u001b[38;5;21;01m.\u001b[39;00m\u001b[38;5;21;01mutils\u001b[39;00m\u001b[38;5;21;01m.\u001b[39;00m\u001b[38;5;21;01mmulti_gpu_utils\u001b[39;00m \u001b[38;5;28;01mimport\u001b[39;00m multi_gpu_model,plot_model\n\u001b[1;32m     25\u001b[0m \u001b[38;5;66;03m# from tensorflow.python.keras.utils.multi_gpu_utils import multi_gpu_model\u001b[39;00m\n\u001b[1;32m     26\u001b[0m \u001b[38;5;28;01mfrom\u001b[39;00m \u001b[38;5;21;01mkeras\u001b[39;00m\u001b[38;5;21;01m.\u001b[39;00m\u001b[38;5;21;01moptimizers\u001b[39;00m \u001b[38;5;28;01mimport\u001b[39;00m Adam, SGD\n",
      "\u001b[0;31mModuleNotFoundError\u001b[0m: No module named 'keras.utils.multi_gpu_utils'"
     ]
    }
   ],
   "source": [
    "import argparse\n",
    "import random,os,sys\n",
    "import numpy as np\n",
    "import csv\n",
    "from scipy import stats\n",
    "import time\n",
    "from sklearn.model_selection import train_test_split\n",
    "from sklearn import metrics\n",
    "from sklearn.metrics import roc_auc_score\n",
    "from sklearn import preprocessing\n",
    "import pandas as pd\n",
    "import keras.backend as K\n",
    "from keras.models import Model, Sequential\n",
    "from keras.models import load_model\n",
    "from keras.layers import Input,InputLayer,Multiply,ZeroPadding2D\n",
    "from keras.layers import Conv2D, MaxPooling2D\n",
    "from keras.layers import Dense,Activation,Dropout,Flatten,Concatenate\n",
    "from keras.layers import BatchNormalization\n",
    "from keras.layers import Lambda\n",
    "from keras import optimizers,utils\n",
    "from keras.constraints import max_norm\n",
    "from keras import regularizers\n",
    "from keras.callbacks import ModelCheckpoint,Callback,EarlyStopping,History\n",
    "# from keras.utils.multi_gpu_utils import multi_gpu_model,plot_model\n",
    "# from tensorflow.python.keras.utils.multi_gpu_utils import multi_gpu_model\n",
    "from keras.optimizers import Adam, SGD\n",
    "from keras.models import model_from_json\n",
    "import tensorflow as tf\n",
    "from sklearn.metrics import average_precision_score\n",
    "from scipy.stats import pearsonr\n",
    "# from model import KerasMultiSourceGCNModel\n",
    "# import hickle as hkl"
   ]
  }
 ],
 "metadata": {
  "kernelspec": {
   "display_name": "TensorFlow GPU 2.9 (py39)",
   "language": "python",
   "name": "tensorflow-gpu-2.9-py39"
  },
  "language_info": {
   "codemirror_mode": {
    "name": "ipython",
    "version": 3
   },
   "file_extension": ".py",
   "mimetype": "text/x-python",
   "name": "python",
   "nbconvert_exporter": "python",
   "pygments_lexer": "ipython3",
   "version": "3.9.13"
  }
 },
 "nbformat": 4,
 "nbformat_minor": 5
}
