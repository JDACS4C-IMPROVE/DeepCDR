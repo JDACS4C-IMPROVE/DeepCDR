{
 "cells": [
  {
   "cell_type": "code",
   "execution_count": 1,
   "id": "b2bf9c9a-4052-4cc1-bf73-1e26848bb49c",
   "metadata": {},
   "outputs": [
    {
     "name": "stderr",
     "output_type": "stream",
     "text": [
      "2023-02-06 18:53:06.965659: I tensorflow/core/util/util.cc:169] oneDNN custom operations are on. You may see slightly different numerical results due to floating-point round-off errors from different computation orders. To turn them off, set the environment variable `TF_ENABLE_ONEDNN_OPTS=0`.\n"
     ]
    }
   ],
   "source": [
    "import argparse\n",
    "import random,os,sys\n",
    "import numpy as np\n",
    "import csv\n",
    "from scipy import stats\n",
    "import time\n",
    "from sklearn.model_selection import train_test_split\n",
    "from sklearn import metrics\n",
    "from sklearn.metrics import roc_auc_score\n",
    "from sklearn import preprocessing\n",
    "import pandas as pd\n",
    "import keras.backend as K\n",
    "from keras.models import Model, Sequential\n",
    "from keras.models import load_model\n",
    "from keras.layers import Input,InputLayer,Multiply,ZeroPadding2D\n",
    "from keras.layers import Conv2D, MaxPooling2D\n",
    "from keras.layers import Dense,Activation,Dropout,Flatten,Concatenate\n",
    "from keras.layers import BatchNormalization\n",
    "from keras.layers import Lambda\n",
    "from keras import optimizers,utils\n",
    "from keras.constraints import max_norm\n",
    "from keras import regularizers\n",
    "from keras.callbacks import ModelCheckpoint,Callback,EarlyStopping,History\n",
    "from keras.utils import plot_model\n",
    "from keras.optimizers import Adam, SGD\n",
    "from keras.models import model_from_json\n",
    "import tensorflow as tf\n",
    "from sklearn.metrics import average_precision_score\n",
    "from scipy.stats import pearsonr\n",
    "from model import KerasMultiSourceGCNModel\n",
    "import hickle as hkl\n",
    "import scipy.sparse as sp\n",
    "import argparse\n"
   ]
  },
  {
   "cell_type": "code",
   "execution_count": 2,
   "id": "5610aa19-c258-45ba-8931-cdbd1e4a47ef",
   "metadata": {},
   "outputs": [],
   "source": [
    "####################################Constants Settings###########################\n",
    "TCGA_label_set = [\"ALL\",\"BLCA\",\"BRCA\",\"CESC\",\"DLBC\",\"LIHC\",\"LUAD\",\n",
    "                  \"ESCA\",\"GBM\",\"HNSC\",\"KIRC\",\"LAML\",\"LCML\",\"LGG\",\n",
    "                  \"LUSC\",\"MESO\",\"MM\",\"NB\",\"OV\",\"PAAD\",\"SCLC\",\"SKCM\",\n",
    "                  \"STAD\",\"THCA\",'COAD/READ']\n",
    "DPATH = '/common/statsgeneral/gayara/DeepCDR/data'\n",
    "Drug_info_file = '%s/GDSC/1.Drug_listMon Jun 24 09_00_55 2019.csv'%DPATH\n",
    "Cell_line_info_file = '%s/CCLE/Cell_lines_annotations_20181226.txt'%DPATH\n",
    "Drug_feature_file = '%s/GDSC/drug_graph_feat'%DPATH\n",
    "Genomic_mutation_file = '%s/CCLE/genomic_mutation_34673_demap_features.csv'%DPATH\n",
    "Cancer_response_exp_file = '%s/CCLE/GDSC_IC50.csv'%DPATH\n",
    "Gene_expression_file = '%s/CCLE/genomic_expression_561celllines_697genes_demap_features.csv'%DPATH\n",
    "Methylation_file = '%s/CCLE/genomic_methylation_561celllines_808genes_demap_features.csv'%DPATH\n",
    "IC50_thred_file = '%s/CCLE/IC50_thred.txt'%DPATH\n",
    "Max_atoms = 100\n"
   ]
  },
  {
   "cell_type": "code",
   "execution_count": 3,
   "id": "f365736d-381b-46da-aacc-308b30589366",
   "metadata": {},
   "outputs": [],
   "source": [
    "def MetadataGenerate(Drug_info_file,Cell_line_info_file,Genomic_mutation_file,Drug_feature_file,Gene_expression_file,Methylation_file,filtered,use_thred=True):\n",
    "    #drug_id --> pubchem_id\n",
    "    reader = csv.reader(open(Drug_info_file,'r'))\n",
    "    rows = [item for item in reader]\n",
    "    drugid2pubchemid = {item[0]:item[5] for item in rows if item[5].isdigit()}\n",
    "    name2pubchemid = {item[1]:item[5] for item in rows if item[5].isdigit()}\n",
    "    drug_names = [item.strip() for item in open(IC50_thred_file).readlines()[0].split('\\t')]\n",
    "    IC50_threds = [float(item.strip()) for item in open(IC50_thred_file).readlines()[1].split('\\t')]\n",
    "    drug2thred = {name2pubchemid[a]:b for a,b in zip(drug_names,IC50_threds) if a in name2pubchemid.keys()}\n",
    "\n",
    "    #map cellline --> cancer type\n",
    "    cellline2cancertype ={}\n",
    "    for line in open(Cell_line_info_file).readlines()[1:]:\n",
    "        cellline_id = line.split('\\t')[1]\n",
    "        TCGA_label = line.strip().split('\\t')[-1]\n",
    "        #if TCGA_label in TCGA_label_set:\n",
    "        cellline2cancertype[cellline_id] = TCGA_label\n",
    "\n",
    "    #load demap cell lines genomic mutation features\n",
    "    mutation_feature = pd.read_csv(Genomic_mutation_file,sep=',',header=0,index_col=[0])\n",
    "    cell_line_id_set = list(mutation_feature.index)\n",
    "\n",
    "    # load drug features\n",
    "    drug_pubchem_id_set = []\n",
    "    drug_feature = {}\n",
    "    for each in os.listdir(Drug_feature_file):\n",
    "        drug_pubchem_id_set.append(each.split('.')[0])\n",
    "        feat_mat,adj_list,degree_list = hkl.load('%s/%s'%(Drug_feature_file,each))\n",
    "        drug_feature[each.split('.')[0]] = [feat_mat,adj_list,degree_list]\n",
    "    assert len(drug_pubchem_id_set)==len(drug_feature.values())\n",
    "    \n",
    "    #load gene expression faetures\n",
    "    gexpr_feature = pd.read_csv(Gene_expression_file,sep=',',header=0,index_col=[0])\n",
    "    \n",
    "    #only keep overlapped cell lines\n",
    "    mutation_feature = mutation_feature.loc[list(gexpr_feature.index)]\n",
    "    \n",
    "    #load methylation \n",
    "    methylation_feature = pd.read_csv(Methylation_file,sep=',',header=0,index_col=[0])\n",
    "    assert methylation_feature.shape[0]==gexpr_feature.shape[0]==mutation_feature.shape[0]        \n",
    "    experiment_data = pd.read_csv(Cancer_response_exp_file,sep=',',header=0,index_col=[0])\n",
    "    #filter experiment data\n",
    "    drug_match_list=[item for item in experiment_data.index if item.split(':')[1] in drugid2pubchemid.keys()]\n",
    "    experiment_data_filtered = experiment_data.loc[drug_match_list]\n",
    "    \n",
    "    data_idx = []\n",
    "    for each_drug in experiment_data_filtered.index:\n",
    "        for each_cellline in experiment_data_filtered.columns:\n",
    "            pubchem_id = drugid2pubchemid[each_drug.split(':')[-1]]\n",
    "            if str(pubchem_id) in drug_pubchem_id_set and each_cellline in mutation_feature.index:\n",
    "                if not np.isnan(experiment_data_filtered.loc[each_drug,each_cellline]) and each_cellline in cellline2cancertype.keys():\n",
    "                    ln_IC50 = float(experiment_data_filtered.loc[each_drug,each_cellline])\n",
    "                    if use_thred:\n",
    "                        if pubchem_id in drug2thred.keys():\n",
    "                            binary_IC50 = 1 if ln_IC50 < drug2thred[pubchem_id] else 0\n",
    "                            data_idx.append((each_cellline,pubchem_id,binary_IC50,cellline2cancertype[each_cellline])) \n",
    "                    else:\n",
    "                        binary_IC50 = 1 if ln_IC50 > -2 else 0\n",
    "                        data_idx.append((each_cellline,pubchem_id,binary_IC50,cellline2cancertype[each_cellline])) \n",
    "\n",
    "    nb_celllines = len(set([item[0] for item in data_idx]))\n",
    "    nb_drugs = len(set([item[1] for item in data_idx]))\n",
    "    print('%d instances across %d cell lines and %d drugs were generated.'%(len(data_idx),nb_celllines,nb_drugs))\n",
    "    return mutation_feature, drug_feature,gexpr_feature,methylation_feature, data_idx\n"
   ]
  },
  {
   "cell_type": "code",
   "execution_count": 4,
   "id": "a46812c3-9c6f-4a43-b047-c5375bc78ec5",
   "metadata": {},
   "outputs": [],
   "source": [
    "def DataSplit(data_idx,ratio = 0.95):\n",
    "    data_train_idx,data_valid_idx, data_test_idx = [], [], []\n",
    "    for each_type in TCGA_label_set:\n",
    "        data_subtype_idx = [item for item in data_idx if item[-1]==each_type]\n",
    "        train_list = random.sample(data_subtype_idx,int(ratio*len(data_subtype_idx)))\n",
    "        test_list = [item for item in data_subtype_idx if item not in train_list]\n",
    "        validation_final = test_list[:110]\n",
    "        test_final = test_list[110:]\n",
    "        data_train_idx += train_list\n",
    "        data_test_idx += test_final\n",
    "        data_valid_idx += validation_final\n",
    "    return data_train_idx, data_valid_idx, data_test_idx"
   ]
  },
  {
   "cell_type": "code",
   "execution_count": 5,
   "id": "3d5fdb93-6dae-46ff-9943-ebfe197bfa9a",
   "metadata": {},
   "outputs": [],
   "source": [
    "def NormalizeAdj(adj):\n",
    "    adj = adj + np.eye(adj.shape[0])\n",
    "    d = sp.diags(np.power(np.array(adj.sum(1)), -0.5).flatten(), 0).toarray()\n",
    "    a_norm = adj.dot(d).transpose().dot(d)\n",
    "    return a_norm"
   ]
  },
  {
   "cell_type": "code",
   "execution_count": 6,
   "id": "e6e98772-6e08-4a57-8183-cb64fceb4059",
   "metadata": {},
   "outputs": [],
   "source": [
    "def random_adjacency_matrix(n):   \n",
    "    matrix = [[random.randint(0, 1) for i in range(n)] for j in range(n)]\n",
    "    # No vertex connects to itself\n",
    "    for i in range(n):\n",
    "        matrix[i][i] = 0\n",
    "    # If i is connected to j, j is connected to i\n",
    "    for i in range(n):\n",
    "        for j in range(n):\n",
    "            matrix[j][i] = matrix[i][j]\n",
    "    return matrix"
   ]
  },
  {
   "cell_type": "code",
   "execution_count": 7,
   "id": "4b08464a-a475-46d2-9cb5-a469845d7002",
   "metadata": {},
   "outputs": [],
   "source": [
    "def CalculateGraphFeat(feat_mat,adj_list):\n",
    "    assert feat_mat.shape[0] == len(adj_list)\n",
    "    feat = np.zeros((Max_atoms,feat_mat.shape[-1]),dtype='float32')\n",
    "    adj_mat = np.zeros((Max_atoms,Max_atoms),dtype='float32')\n",
    "    if israndom:\n",
    "        feat = np.random.rand(Max_atoms,feat_mat.shape[-1])\n",
    "        adj_mat[feat_mat.shape[0]:,feat_mat.shape[0]:] = random_adjacency_matrix(Max_atoms-feat_mat.shape[0])        \n",
    "    feat[:feat_mat.shape[0],:] = feat_mat\n",
    "    for i in range(len(adj_list)):\n",
    "        nodes = adj_list[i]\n",
    "        for each in nodes:\n",
    "            adj_mat[i,int(each)] = 1\n",
    "    assert np.allclose(adj_mat,adj_mat.T)\n",
    "    adj_ = adj_mat[:len(adj_list),:len(adj_list)]\n",
    "    adj_2 = adj_mat[len(adj_list):,len(adj_list):]\n",
    "    norm_adj_ = NormalizeAdj(adj_)\n",
    "    norm_adj_2 = NormalizeAdj(adj_2)\n",
    "    adj_mat[:len(adj_list),:len(adj_list)] = norm_adj_\n",
    "    adj_mat[len(adj_list):,len(adj_list):] = norm_adj_2    \n",
    "    return [feat,adj_mat]"
   ]
  },
  {
   "cell_type": "code",
   "execution_count": 8,
   "id": "176e9fe8-2d43-4057-9195-5e36ebb0979c",
   "metadata": {},
   "outputs": [],
   "source": [
    "def FeatureExtract(data_idx,drug_feature,mutation_feature,gexpr_feature,methylation_feature):\n",
    "    cancer_type_list = []\n",
    "    nb_instance = len(data_idx)\n",
    "    nb_mutation_feature = mutation_feature.shape[1]\n",
    "    nb_gexpr_features = gexpr_feature.shape[1]\n",
    "    nb_methylation_features = methylation_feature.shape[1]\n",
    "    drug_data = [[] for item in range(nb_instance)]\n",
    "    mutation_data = np.zeros((nb_instance,1, nb_mutation_feature,1),dtype='float32')\n",
    "    gexpr_data = np.zeros((nb_instance,nb_gexpr_features),dtype='float32') \n",
    "    methylation_data = np.zeros((nb_instance, nb_methylation_features),dtype='float32') \n",
    "    target = np.zeros(nb_instance,dtype='int16')\n",
    "    for idx in range(nb_instance):\n",
    "        cell_line_id,pubchem_id,binary_IC50,cancer_type = data_idx[idx]\n",
    "        #modify\n",
    "        feat_mat,adj_list,_ = drug_feature[str(pubchem_id)]\n",
    "        #fill drug data,padding to the same size with zeros\n",
    "        drug_data[idx] = CalculateGraphFeat(feat_mat,adj_list)\n",
    "        #randomlize X A\n",
    "        mutation_data[idx,0,:,0] = mutation_feature.loc[cell_line_id].values\n",
    "        gexpr_data[idx,:] = gexpr_feature.loc[cell_line_id].values\n",
    "        methylation_data[idx,:] = methylation_feature.loc[cell_line_id].values\n",
    "        target[idx] = binary_IC50\n",
    "        cancer_type_list.append([cancer_type,cell_line_id,pubchem_id])\n",
    "    return drug_data,mutation_data,gexpr_data,methylation_data,target,cancer_type_list"
   ]
  },
  {
   "cell_type": "code",
   "execution_count": 9,
   "id": "7dae7baa-9436-4013-8b6c-df249f930312",
   "metadata": {},
   "outputs": [],
   "source": [
    "def precision(y_true, y_pred):\n",
    "    true_positives = K.sum(K.round(K.clip(y_true * y_pred, 0, 1)))\n",
    "    predicted_positives = K.sum(K.round(K.clip(y_pred, 0, 1)))\n",
    "    precision = true_positives / (predicted_positives + K.epsilon())\n",
    "    return precision\n",
    "def recall(y_true, y_pred):\n",
    "    true_positives = K.sum(K.round(K.clip(y_true * y_pred, 0, 1)))\n",
    "    possible_positives = K.sum(K.round(K.clip(y_true, 0, 1)))\n",
    "    recall = true_positives / (possible_positives + K.epsilon())\n",
    "    return recall\n",
    "def f1_score(y_true, y_pred):\n",
    "    prec = precision(y_true, y_pred)\n",
    "    recal = recall(y_true, y_pred)\n",
    "    return 2.0*prec*recal/(prec+recal+K.epsilon())\n",
    "def average_precision(y_true, y_pred):\n",
    "    return tf.numpy_function(average_precision_score, (y_true, y_pred), tf.double) "
   ]
  },
  {
   "cell_type": "code",
   "execution_count": 10,
   "id": "87c6c5cf-bb75-40e1-ba54-63fdbb64ad8b",
   "metadata": {},
   "outputs": [],
   "source": [
    "class MyCallback(Callback):\n",
    "    def __init__(self,validation_data,patience):\n",
    "        self.x_val = validation_data[0]\n",
    "        self.y_val = validation_data[1]\n",
    "        self.best_weight = None\n",
    "        self.patience = patience\n",
    "    def on_train_begin(self,logs={}):\n",
    "        self.wait = 0\n",
    "        self.stopped_epoch = 0\n",
    "        self.best = -np.Inf\n",
    "        return\n",
    "    def on_train_end(self, logs={}):\n",
    "        self.model.set_weights(self.best_weight)\n",
    "        self.model.save('/common/statsgeneral/gayara/DeepCDR/checkpoints_classification')\n",
    "        if self.stopped_epoch > 0 :\n",
    "            print('Epoch %05d: early stopping' % (self.stopped_epoch + 1))\n",
    "        return\n",
    "\n",
    "    def on_epoch_begin(self, epoch, logs={}):\n",
    "        return\n",
    "\n",
    "    def on_epoch_end(self, epoch, logs={}):\n",
    "        y_pred_val = self.model.predict(self.x_val)\n",
    "        roc_val = roc_auc_score(self.y_val, y_pred_val)\n",
    "        precision,recall,_, = metrics.precision_recall_curve(self.y_val,y_pred_val)\n",
    "        pr_val = -np.trapz(precision,recall)\n",
    "        print('roc-val: %.4f, pr-val:%.4f' % (roc_val,pr_val))\n",
    "        if roc_val > self.best:\n",
    "            self.best = roc_val\n",
    "\n",
    "            self.wait = 0\n",
    "            self.best_weight = self.model.get_weights()\n",
    "        else:\n",
    "            self.wait+=1\n",
    "            if self.wait >= self.patience:\n",
    "                self.stopped_epoch = epoch\n",
    "                self.model.stop_training = True\n",
    "        return"
   ]
  },
  {
   "cell_type": "code",
   "execution_count": 11,
   "id": "3d880264-609c-45d0-b2b9-283eb5dd40e9",
   "metadata": {},
   "outputs": [],
   "source": [
    "def ModelTraining(model,X_drug_data_train,X_mutation_data_train,X_gexpr_data_train,X_methylation_data_train,Y_train,validation_data,nb_epoch=100):\n",
    "    optimizer = Adam(lr=0.001, beta_1=0.9, beta_2=0.999, epsilon=None, decay=0.0, amsgrad=False)\n",
    "    model.compile(optimizer = optimizer,loss='binary_crossentropy',metrics=['accuracy',precision,recall,f1_score,average_precision])\n",
    "    #EarlyStopping(monitor='val_loss',patience=5)\n",
    "    callbacks = [ModelCheckpoint('/common/statsgeneral/gayara/DeepCDR/checkpoints_classification',monitor='val_average_precision',save_best_only=True, save_weights_only=False),\n",
    "                MyCallback(validation_data=validation_data,patience=10)]\n",
    "    X_drug_feat_data_train = [item[0] for item in X_drug_data_train]\n",
    "    X_drug_adj_data_train = [item[1] for item in X_drug_data_train]\n",
    "    X_drug_feat_data_train = np.array(X_drug_feat_data_train)#nb_instance * Max_stom * feat_dim\n",
    "    X_drug_adj_data_train = np.array(X_drug_adj_data_train)#nb_instance * Max_stom * Max_stom\n",
    "    #validation data\n",
    "    model.fit(x=[X_drug_feat_data_train,X_drug_adj_data_train,X_mutation_data_train,X_gexpr_data_train,X_methylation_data_train],y=Y_train,batch_size=64,epochs=nb_epoch,validation_split=0.0,callbacks=callbacks)\n",
    "    return model"
   ]
  },
  {
   "cell_type": "code",
   "execution_count": 12,
   "id": "41739a52-061c-4be1-885d-4250c7252643",
   "metadata": {},
   "outputs": [],
   "source": [
    "def ModelEvaluate(model,X_drug_data_test,X_mutation_data_test,X_gexpr_data_test,X_methylation_data_test,Y_test,cancer_type_test_list,file_path):\n",
    "    X_drug_feat_data_test = [item[0] for item in X_drug_data_test]\n",
    "    X_drug_adj_data_test = [item[1] for item in X_drug_data_test]\n",
    "    X_drug_feat_data_test = np.array(X_drug_feat_data_test)#nb_instance * Max_stom * feat_dim\n",
    "    X_drug_adj_data_test = np.array(X_drug_adj_data_test)#nb_instance * Max_stom * Max_stom    \n",
    "    Y_pred = model.predict([X_drug_feat_data_test,X_drug_adj_data_test,X_mutation_data_test,X_gexpr_data_test,X_methylation_data_test])\n",
    "    auROC_all = metrics.roc_auc_score(Y_test, Y_pred)\n",
    "    fpr,tpr,_,= metrics.roc_curve(Y_test,Y_pred)\n",
    "    precision,recall,_, = metrics.precision_recall_curve(Y_test,Y_pred)\n",
    "    auPR_all = -np.trapz(precision,recall)\n",
    "    print(\"The overall AUC and auPR is %.4f and %.4f.\"%(auROC_all,auPR_all))\n",
    "\n",
    "    "
   ]
  },
  {
   "cell_type": "code",
   "execution_count": 13,
   "id": "6fd7f4ed-5296-4b7b-91bd-108a878e0bdd",
   "metadata": {},
   "outputs": [],
   "source": [
    "israndom = False\n",
    "use_mut = True\n",
    "use_gexp = True\n",
    "use_methy = True\n",
    "units_list = [256,256,256]\n",
    "use_relu = True\n",
    "use_bn = True\n",
    "use_GMP = True"
   ]
  },
  {
   "cell_type": "code",
   "execution_count": 14,
   "id": "d955ddd1-b90b-460b-8dd4-9502c964006e",
   "metadata": {},
   "outputs": [
    {
     "name": "stderr",
     "output_type": "stream",
     "text": [
      "/common/statsgeneral/gayara/tf_customenv1/lib/python3.9/site-packages/hickle/hickle.py:356: UserWarning: Input argument 'file_obj' appears to be a file made with hickle v3. Using legacy load...\n",
      "  warnings.warn(\"Input argument 'file_obj' appears to be a file made\"\n"
     ]
    },
    {
     "name": "stdout",
     "output_type": "stream",
     "text": [
      "71633 instances across 561 cell lines and 153 drugs were generated.\n"
     ]
    }
   ],
   "source": [
    "random.seed(0)\n",
    "mutation_feature, drug_feature,gexpr_feature,methylation_feature, data_idx = MetadataGenerate(Drug_info_file,Cell_line_info_file,Genomic_mutation_file,Drug_feature_file,Gene_expression_file,Methylation_file,False)\n",
    "data_train_idx, data_valid_idx,data_test_idx = DataSplit(data_idx)\n",
    "\n"
   ]
  },
  {
   "cell_type": "code",
   "execution_count": 15,
   "id": "767b4806-c278-484b-a445-35b7f46f61b5",
   "metadata": {},
   "outputs": [
    {
     "data": {
      "text/plain": [
       "59698"
      ]
     },
     "execution_count": 15,
     "metadata": {},
     "output_type": "execute_result"
    }
   ],
   "source": [
    "len(data_train_idx)"
   ]
  },
  {
   "cell_type": "code",
   "execution_count": 16,
   "id": "779dedd8-4c2f-4017-83d5-b53881394fff",
   "metadata": {},
   "outputs": [
    {
     "data": {
      "text/plain": [
       "2112"
      ]
     },
     "execution_count": 16,
     "metadata": {},
     "output_type": "execute_result"
    }
   ],
   "source": [
    "len(data_valid_idx)"
   ]
  },
  {
   "cell_type": "code",
   "execution_count": 17,
   "id": "9e69bed5-bcac-476b-ac12-c1b929fa9095",
   "metadata": {},
   "outputs": [
    {
     "data": {
      "text/plain": [
       "798"
      ]
     },
     "execution_count": 17,
     "metadata": {},
     "output_type": "execute_result"
    }
   ],
   "source": [
    "len(data_test_idx)"
   ]
  },
  {
   "cell_type": "code",
   "execution_count": 18,
   "id": "dc2ecc8c-a497-41fd-b5fe-aea25c260826",
   "metadata": {},
   "outputs": [],
   "source": [
    "#Extract features for training and test \n",
    "X_drug_data_train,X_mutation_data_train,X_gexpr_data_train,X_methylation_data_train,Y_train,cancer_type_train_list = FeatureExtract(data_train_idx,drug_feature,mutation_feature,gexpr_feature,methylation_feature)\n",
    "X_drug_data_test,X_mutation_data_test,X_gexpr_data_test,X_methylation_data_test,Y_test,cancer_type_test_list = FeatureExtract(data_test_idx,drug_feature,mutation_feature,gexpr_feature,methylation_feature)\n",
    "X_drug_data_valid,X_mutation_data_valid,X_gexpr_data_valid,X_methylation_data_valid,Y_valid,cancer_type_valid_list = FeatureExtract(data_valid_idx,drug_feature,mutation_feature,gexpr_feature,methylation_feature)\n",
    "\n",
    "X_drug_feat_data_test = [item[0] for item in X_drug_data_test]\n",
    "X_drug_adj_data_test = [item[1] for item in X_drug_data_test]\n",
    "X_drug_feat_data_test = np.array(X_drug_feat_data_test)#nb_instance * Max_stom * feat_dim\n",
    "X_drug_adj_data_test = np.array(X_drug_adj_data_test)#nb_instance * Max_stom * Max_stom  \n",
    "\n",
    "# validation data\n",
    "X_drug_feat_data_valid = [item[0] for item in X_drug_data_valid]\n",
    "X_drug_adj_data_valid = [item[1] for item in X_drug_data_valid]\n",
    "X_drug_feat_data_valid = np.array(X_drug_feat_data_valid)#nb_instance * Max_stom * feat_dim\n",
    "X_drug_adj_data_valid = np.array(X_drug_adj_data_valid)#nb_instance * Max_stom * Max_stom  "
   ]
  },
  {
   "cell_type": "code",
   "execution_count": 19,
   "id": "74999dc5-ebb7-42a3-b464-9dd3e9e9d00c",
   "metadata": {},
   "outputs": [],
   "source": [
    "validation_data = [[X_drug_feat_data_valid,X_drug_adj_data_valid,X_mutation_data_valid,X_gexpr_data_valid,X_methylation_data_valid],Y_valid]\n",
    "test_data = [[X_drug_feat_data_test,X_drug_adj_data_test,X_mutation_data_test,X_gexpr_data_test,X_methylation_data_test],Y_test]"
   ]
  },
  {
   "cell_type": "code",
   "execution_count": 20,
   "id": "3fdac35c-96c0-4aa4-872d-cc4d86ec84c2",
   "metadata": {},
   "outputs": [
    {
     "name": "stderr",
     "output_type": "stream",
     "text": [
      "2023-02-06 18:54:55.985281: I tensorflow/core/platform/cpu_feature_guard.cc:193] This TensorFlow binary is optimized with oneAPI Deep Neural Network Library (oneDNN) to use the following CPU instructions in performance-critical operations:  SSE4.1 SSE4.2 AVX AVX2 AVX512F AVX512_VNNI FMA\n",
      "To enable them in other operations, rebuild TensorFlow with the appropriate compiler flags.\n",
      "2023-02-06 18:54:57.113416: I tensorflow/core/common_runtime/gpu/gpu_device.cc:1532] Created device /job:localhost/replica:0/task:0/device:GPU:0 with 30965 MB memory:  -> device: 0, name: Tesla V100-PCIE-32GB, pci bus id: 0000:5e:00.0, compute capability: 7.0\n"
     ]
    }
   ],
   "source": [
    "model = KerasMultiSourceGCNModel(use_mut,use_gexp,use_methy,regr=False).createMaster(X_drug_data_train[0][0].shape[-1],X_mutation_data_train.shape[-2],X_gexpr_data_train.shape[-1],X_methylation_data_train.shape[-1],units_list,use_relu,use_bn,use_GMP)\n",
    "\n",
    "\n"
   ]
  },
  {
   "cell_type": "code",
   "execution_count": 27,
   "id": "25e466ba-6df6-40f3-9bd0-9811d029cf7e",
   "metadata": {},
   "outputs": [
    {
     "data": {
      "text/plain": [
       "(array([0, 1], dtype=int16), array([52219,  7479]))"
      ]
     },
     "execution_count": 27,
     "metadata": {},
     "output_type": "execute_result"
    }
   ],
   "source": [
    "np.unique(Y_train, return_counts=True)"
   ]
  },
  {
   "cell_type": "code",
   "execution_count": 30,
   "id": "23e2fc01-712a-40c4-8f73-ac368869399f",
   "metadata": {},
   "outputs": [
    {
     "data": {
      "text/plain": [
       "0.12528057891386646"
      ]
     },
     "execution_count": 30,
     "metadata": {},
     "output_type": "execute_result"
    }
   ],
   "source": [
    "7479/(52219 + 7479)"
   ]
  },
  {
   "cell_type": "code",
   "execution_count": 28,
   "id": "c31fd797-072a-47c8-a648-f1b496903bdf",
   "metadata": {},
   "outputs": [
    {
     "data": {
      "text/plain": [
       "(array([0, 1], dtype=int16), array([701,  97]))"
      ]
     },
     "execution_count": 28,
     "metadata": {},
     "output_type": "execute_result"
    }
   ],
   "source": [
    "np.unique(Y_test, return_counts=True)"
   ]
  },
  {
   "cell_type": "code",
   "execution_count": 31,
   "id": "f11cb454-ad60-4514-8e1d-741bf2ed5c8d",
   "metadata": {},
   "outputs": [
    {
     "data": {
      "text/plain": [
       "0.12155388471177944"
      ]
     },
     "execution_count": 31,
     "metadata": {},
     "output_type": "execute_result"
    }
   ],
   "source": [
    "97/(97+701)"
   ]
  },
  {
   "cell_type": "code",
   "execution_count": 29,
   "id": "f04eab00-df41-4288-b623-895c64d74c0c",
   "metadata": {},
   "outputs": [
    {
     "data": {
      "text/plain": [
       "(array([0, 1], dtype=int16), array([1829,  283]))"
      ]
     },
     "execution_count": 29,
     "metadata": {},
     "output_type": "execute_result"
    }
   ],
   "source": [
    "np.unique(Y_valid, return_counts=True)"
   ]
  },
  {
   "cell_type": "code",
   "execution_count": 32,
   "id": "18f91baf-423d-41f2-940c-c50803e302e6",
   "metadata": {},
   "outputs": [
    {
     "data": {
      "text/plain": [
       "0.13399621212121213"
      ]
     },
     "execution_count": 32,
     "metadata": {},
     "output_type": "execute_result"
    }
   ],
   "source": [
    "283/(283 + 1829)"
   ]
  },
  {
   "cell_type": "code",
   "execution_count": null,
   "id": "b2958cad-4ac7-4e1a-a758-c985b773e83c",
   "metadata": {},
   "outputs": [
    {
     "name": "stdout",
     "output_type": "stream",
     "text": [
      "Begin training...\n"
     ]
    },
    {
     "name": "stderr",
     "output_type": "stream",
     "text": [
      "/common/statsgeneral/gayara/tf_customenv1/lib/python3.9/site-packages/keras/optimizers/optimizer_v2/adam.py:110: UserWarning: The `lr` argument is deprecated, use `learning_rate` instead.\n",
      "  super(Adam, self).__init__(name, **kwargs)\n"
     ]
    }
   ],
   "source": [
    "print('Begin training...')\n",
    "model = ModelTraining(model,X_drug_data_train,X_mutation_data_train,X_gexpr_data_train,X_methylation_data_train,Y_train,validation_data,nb_epoch=3)"
   ]
  },
  {
   "cell_type": "code",
   "execution_count": null,
   "id": "0dddac48-962d-4901-8e69-8b08574aae76",
   "metadata": {},
   "outputs": [],
   "source": [
    "ModelEvaluate(model,X_drug_data_test,X_mutation_data_test,X_gexpr_data_test,X_methylation_data_test,Y_test,cancer_type_test_list,'/common/statsgeneral/gayara/DeepCDR/checkpoints_classification')"
   ]
  }
 ],
 "metadata": {
  "kernelspec": {
   "display_name": "Python (tf_customenv1)",
   "language": "python",
   "name": "tf_customenv1"
  },
  "language_info": {
   "codemirror_mode": {
    "name": "ipython",
    "version": 3
   },
   "file_extension": ".py",
   "mimetype": "text/x-python",
   "name": "python",
   "nbconvert_exporter": "python",
   "pygments_lexer": "ipython3",
   "version": "3.9.13"
  }
 },
 "nbformat": 4,
 "nbformat_minor": 5
}
